{
  "nbformat": 4,
  "nbformat_minor": 0,
  "metadata": {
    "colab": {
      "name": "Arvore_decisao_bike.ipynb",
      "provenance": [],
      "authorship_tag": "ABX9TyO4ATX5vYtdVwKdIMagIK7X",
      "include_colab_link": true
    },
    "kernelspec": {
      "name": "python3",
      "display_name": "Python 3"
    },
    "language_info": {
      "name": "python"
    }
  },
  "cells": [
    {
      "cell_type": "markdown",
      "metadata": {
        "id": "view-in-github",
        "colab_type": "text"
      },
      "source": [
        "<a href=\"https://colab.research.google.com/github/marianegri/Python_DataScience_MachineLearning/blob/main/Arvore_decisao_bike.ipynb\" target=\"_parent\"><img src=\"https://colab.research.google.com/assets/colab-badge.svg\" alt=\"Open In Colab\"/></a>"
      ]
    },
    {
      "cell_type": "code",
      "execution_count": 3,
      "metadata": {
        "id": "RgQixZeK_vNd"
      },
      "outputs": [],
      "source": [
        "temperatura = [5,    8,     10,   12,   14,    14,    18,    21,    21,     10,    23,   24,   24,    25,    25,   26,     26,    26,    27,    27,   28,    28,    30,    32,    32] #celsius\n",
        "chuva       = [0,    25,    0,    2,    0,     4,     0,     0,     7,      20,    5,    0,    12,    35,     7,    0,     23,    25,    32,    0,    3,     4,     0,     2,     5] #mm/hora\n",
        "vento       = [5,    8,     2,    22,   12,    8,     0,     58,    62,     25,    18,   5,    12,    35,     7,    0,     23,    25,    32,    0,    3,     4,     0,     5,     2] #km/h\n",
        "ir_bike    = [True, False, True, True, True,  True,  True,  False, False,  False, True, True, True,  False,  True, True,  False, False, False, True, False, False, False, False, False]\n",
        "\n",
        "condicao_tempo = []\n",
        "for i in range(len(temperatura)): \n",
        "  condicao_tempo.append([temperatura[i], chuva[i], vento[i]]) \n",
        "\n",
        "X = condicao_tempo\n",
        "y = ir_bike"
      ]
    },
    {
      "cell_type": "code",
      "source": [
        "from sklearn.tree import DecisionTreeClassifier\n",
        "\n",
        "clf = DecisionTreeClassifier()\n",
        "clf.fit(X, y)"
      ],
      "metadata": {
        "colab": {
          "base_uri": "https://localhost:8080/"
        },
        "id": "nunTc_w9AMVG",
        "outputId": "d24e91fa-dcf6-409d-81c3-5893a4e40237"
      },
      "execution_count": 4,
      "outputs": [
        {
          "output_type": "execute_result",
          "data": {
            "text/plain": [
              "DecisionTreeClassifier()"
            ]
          },
          "metadata": {},
          "execution_count": 4
        }
      ]
    },
    {
      "cell_type": "code",
      "source": [
        "condicao_tempo = [[15, 5, 5], [25, 10, 0], [20, 10, 50]]\n",
        "clf.predict(condicao_tempo)"
      ],
      "metadata": {
        "colab": {
          "base_uri": "https://localhost:8080/"
        },
        "id": "h50cMd5kBgF0",
        "outputId": "0be0de4c-7ca6-4e0b-888e-79de8093af3d"
      },
      "execution_count": 14,
      "outputs": [
        {
          "output_type": "execute_result",
          "data": {
            "text/plain": [
              "array([ True,  True, False])"
            ]
          },
          "metadata": {},
          "execution_count": 14
        }
      ]
    }
  ]
}